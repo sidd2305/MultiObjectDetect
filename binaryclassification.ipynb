{
  "nbformat": 4,
  "nbformat_minor": 0,
  "metadata": {
    "colab": {
      "provenance": [],
      "gpuType": "T4"
    },
    "kernelspec": {
      "name": "python3",
      "display_name": "Python 3"
    },
    "language_info": {
      "name": "python"
    },
    "accelerator": "GPU"
  },
  "cells": [
    {
      "cell_type": "code",
      "execution_count": null,
      "metadata": {
        "colab": {
          "base_uri": "https://localhost:8080/"
        },
        "id": "rCXdIi7Lp11I",
        "outputId": "1a676b21-6bf0-4a01-8d88-2d962252792e"
      },
      "outputs": [
        {
          "output_type": "stream",
          "name": "stdout",
          "text": [
            "Drive already mounted at /content/drive; to attempt to forcibly remount, call drive.mount(\"/content/drive\", force_remount=True).\n"
          ]
        }
      ],
      "source": [
        "from google.colab import drive\n",
        "drive.mount('/content/drive')"
      ]
    },
    {
      "cell_type": "code",
      "source": [
        "!unzip /content/drive/MyDrive/train/green.zip"
      ],
      "metadata": {
        "colab": {
          "base_uri": "https://localhost:8080/"
        },
        "id": "p2Cuhg5jqATF",
        "outputId": "766e694a-706a-40d8-f24c-5ac9a30ba6b1"
      },
      "execution_count": null,
      "outputs": [
        {
          "output_type": "stream",
          "name": "stdout",
          "text": [
            "unzip:  cannot find or open /content/drive/MyDrive/train/green.zip, /content/drive/MyDrive/train/green.zip.zip or /content/drive/MyDrive/train/green.zip.ZIP.\n"
          ]
        }
      ]
    },
    {
      "cell_type": "code",
      "source": [
        "!unzip /content/drive/MyDrive/train/red.zip"
      ],
      "metadata": {
        "colab": {
          "base_uri": "https://localhost:8080/"
        },
        "id": "wEHVFeB-qcIg",
        "outputId": "82a0e3e9-4154-41e9-d810-4eaff1932196"
      },
      "execution_count": null,
      "outputs": [
        {
          "output_type": "stream",
          "name": "stdout",
          "text": [
            "unzip:  cannot find or open /content/drive/MyDrive/train/red.zip, /content/drive/MyDrive/train/red.zip.zip or /content/drive/MyDrive/train/red.zip.ZIP.\n"
          ]
        }
      ]
    },
    {
      "cell_type": "code",
      "source": [
        "!unzip /content/drive/MyDrive/validation/Green.zip"
      ],
      "metadata": {
        "colab": {
          "base_uri": "https://localhost:8080/"
        },
        "id": "eNZ88_Ia0DYL",
        "outputId": "4052bbec-c868-40a0-85e6-27ea07436cc7"
      },
      "execution_count": null,
      "outputs": [
        {
          "output_type": "stream",
          "name": "stdout",
          "text": [
            "unzip:  cannot find or open /content/drive/MyDrive/validation/Green.zip, /content/drive/MyDrive/validation/Green.zip.zip or /content/drive/MyDrive/validation/Green.zip.ZIP.\n"
          ]
        }
      ]
    },
    {
      "cell_type": "code",
      "source": [
        "!unzip /content/drive/MyDrive/validation/Red.zip"
      ],
      "metadata": {
        "colab": {
          "base_uri": "https://localhost:8080/"
        },
        "id": "elb_f4-S0Kfy",
        "outputId": "91f418b5-4b42-463a-fabe-16e06654c724"
      },
      "execution_count": null,
      "outputs": [
        {
          "output_type": "stream",
          "name": "stdout",
          "text": [
            "Archive:  /content/drive/MyDrive/validation/Red.zip\n",
            "  inflating: Red/Image-0.jpg         \n",
            "  inflating: Red/Image-1.jpg         \n",
            "  inflating: Red/Image-10.jpg        \n",
            "  inflating: Red/Image-100.jpg       \n",
            "  inflating: Red/Image-101.jpg       \n",
            "  inflating: Red/Image-102.jpg       \n",
            "  inflating: Red/Image-103.jpg       \n",
            "  inflating: Red/Image-104.jpg       \n",
            "  inflating: Red/Image-105.jpg       \n",
            "  inflating: Red/Image-106.jpg       \n",
            "  inflating: Red/Image-107.jpg       \n",
            "  inflating: Red/Image-108.jpg       \n",
            "  inflating: Red/Image-109.jpg       \n",
            "  inflating: Red/Image-11.jpg        \n",
            "  inflating: Red/Image-110.jpg       \n",
            "  inflating: Red/Image-111.jpg       \n",
            "  inflating: Red/Image-112.jpg       \n",
            "  inflating: Red/Image-113.jpg       \n",
            "  inflating: Red/Image-114.jpg       \n",
            "  inflating: Red/Image-115.jpg       \n",
            "  inflating: Red/Image-116.jpg       \n",
            "  inflating: Red/Image-117.jpg       \n",
            "  inflating: Red/Image-118.jpg       \n",
            "  inflating: Red/Image-119.jpg       \n",
            "  inflating: Red/Image-12.jpg        \n",
            "  inflating: Red/Image-120.jpg       \n",
            "  inflating: Red/Image-121.jpg       \n",
            "  inflating: Red/Image-122.jpg       \n",
            "  inflating: Red/Image-123.jpg       \n",
            "  inflating: Red/Image-124.jpg       \n",
            "  inflating: Red/Image-125.jpg       \n",
            "  inflating: Red/Image-126.jpg       \n",
            "  inflating: Red/Image-127.jpg       \n",
            "  inflating: Red/Image-128.jpg       \n",
            "  inflating: Red/Image-129.jpg       \n",
            "  inflating: Red/Image-13.jpg        \n",
            "  inflating: Red/Image-130.jpg       \n",
            "  inflating: Red/Image-131.jpg       \n",
            "  inflating: Red/Image-132.jpg       \n",
            "  inflating: Red/Image-133.jpg       \n",
            "  inflating: Red/Image-134.jpg       \n",
            "  inflating: Red/Image-135.jpg       \n",
            "  inflating: Red/Image-136.jpg       \n",
            "  inflating: Red/Image-137.jpg       \n",
            "  inflating: Red/Image-138.jpg       \n",
            "  inflating: Red/Image-139.jpg       \n",
            "  inflating: Red/Image-14.jpg        \n",
            "  inflating: Red/Image-140.jpg       \n",
            "  inflating: Red/Image-141.jpg       \n",
            "  inflating: Red/Image-142.jpg       \n",
            "  inflating: Red/Image-143.jpg       \n",
            "  inflating: Red/Image-144.jpg       \n",
            "  inflating: Red/Image-145.jpg       \n",
            "  inflating: Red/Image-146.jpg       \n",
            "  inflating: Red/Image-147.jpg       \n",
            "  inflating: Red/Image-148.jpg       \n",
            "  inflating: Red/Image-149.jpg       \n",
            "  inflating: Red/Image-15.jpg        \n",
            "  inflating: Red/Image-150.jpg       \n",
            "  inflating: Red/Image-151.jpg       \n",
            "  inflating: Red/Image-152.jpg       \n",
            "  inflating: Red/Image-153.jpg       \n",
            "  inflating: Red/Image-154.jpg       \n",
            "  inflating: Red/Image-155.jpg       \n",
            "  inflating: Red/Image-156.jpg       \n",
            "  inflating: Red/Image-157.jpg       \n",
            "  inflating: Red/Image-158.jpg       \n",
            "  inflating: Red/Image-159.jpg       \n",
            "  inflating: Red/Image-16.jpg        \n",
            "  inflating: Red/Image-160.jpg       \n",
            "  inflating: Red/Image-161.jpg       \n",
            "  inflating: Red/Image-162.jpg       \n",
            "  inflating: Red/Image-163.jpg       \n",
            "  inflating: Red/Image-164.jpg       \n",
            "  inflating: Red/Image-165.jpg       \n",
            "  inflating: Red/Image-166.jpg       \n",
            "  inflating: Red/Image-167.jpg       \n",
            "  inflating: Red/Image-168.jpg       \n",
            "  inflating: Red/Image-169.jpg       \n",
            "  inflating: Red/Image-17.jpg        \n",
            "  inflating: Red/Image-170.jpg       \n",
            "  inflating: Red/Image-171.jpg       \n",
            "  inflating: Red/Image-172.jpg       \n",
            "  inflating: Red/Image-173.jpg       \n",
            "  inflating: Red/Image-174.jpg       \n",
            "  inflating: Red/Image-175.jpg       \n",
            "  inflating: Red/Image-176.jpg       \n",
            "  inflating: Red/Image-177.jpg       \n",
            "  inflating: Red/Image-178.jpg       \n",
            "  inflating: Red/Image-179.jpg       \n",
            "  inflating: Red/Image-18.jpg        \n",
            "  inflating: Red/Image-180.jpg       \n",
            "  inflating: Red/Image-181.jpg       \n",
            "  inflating: Red/Image-182.jpg       \n",
            "  inflating: Red/Image-183.jpg       \n",
            "  inflating: Red/Image-184.jpg       \n",
            "  inflating: Red/Image-185.jpg       \n",
            "  inflating: Red/Image-186.jpg       \n",
            "  inflating: Red/Image-187.jpg       \n",
            "  inflating: Red/Image-188.jpg       \n",
            "  inflating: Red/Image-189.jpg       \n",
            "  inflating: Red/Image-19.jpg        \n",
            "  inflating: Red/Image-190.jpg       \n",
            "  inflating: Red/Image-191.jpg       \n",
            "  inflating: Red/Image-192.jpg       \n",
            "  inflating: Red/Image-193.jpg       \n",
            "  inflating: Red/Image-194.jpg       \n",
            "  inflating: Red/Image-195.jpg       \n",
            "  inflating: Red/Image-196.jpg       \n",
            "  inflating: Red/Image-197.jpg       \n",
            "  inflating: Red/Image-198.jpg       \n",
            "  inflating: Red/Image-199.jpg       \n",
            "  inflating: Red/Image-2.jpg         \n",
            "  inflating: Red/Image-20.jpg        \n",
            "  inflating: Red/Image-200.jpg       \n",
            "  inflating: Red/Image-201.jpg       \n",
            "  inflating: Red/Image-202.jpg       \n",
            "  inflating: Red/Image-203.jpg       \n",
            "  inflating: Red/Image-204.jpg       \n",
            "  inflating: Red/Image-205.jpg       \n",
            "  inflating: Red/Image-206.jpg       \n",
            "  inflating: Red/Image-207.jpg       \n",
            "  inflating: Red/Image-208.jpg       \n",
            "  inflating: Red/Image-209.jpg       \n",
            "  inflating: Red/Image-21.jpg        \n",
            "  inflating: Red/Image-210.jpg       \n",
            "  inflating: Red/Image-211.jpg       \n",
            "  inflating: Red/Image-212.jpg       \n",
            "  inflating: Red/Image-213.jpg       \n",
            "  inflating: Red/Image-214.jpg       \n",
            "  inflating: Red/Image-215.jpg       \n",
            "  inflating: Red/Image-216.jpg       \n",
            "  inflating: Red/Image-217.jpg       \n",
            "  inflating: Red/Image-218.jpg       \n",
            "  inflating: Red/Image-219.jpg       \n",
            "  inflating: Red/Image-22.jpg        \n",
            "  inflating: Red/Image-220.jpg       \n",
            "  inflating: Red/Image-221.jpg       \n",
            "  inflating: Red/Image-222.jpg       \n",
            "  inflating: Red/Image-223.jpg       \n",
            "  inflating: Red/Image-224.jpg       \n",
            "  inflating: Red/Image-225.jpg       \n",
            "  inflating: Red/Image-226.jpg       \n",
            "  inflating: Red/Image-227.jpg       \n",
            "  inflating: Red/Image-228.jpg       \n",
            "  inflating: Red/Image-229.jpg       \n",
            "  inflating: Red/Image-23.jpg        \n",
            "  inflating: Red/Image-230.jpg       \n",
            "  inflating: Red/Image-231.jpg       \n",
            "  inflating: Red/Image-232.jpg       \n",
            "  inflating: Red/Image-233.jpg       \n",
            "  inflating: Red/Image-234.jpg       \n",
            "  inflating: Red/Image-235.jpg       \n",
            "  inflating: Red/Image-236.jpg       \n",
            "  inflating: Red/Image-237.jpg       \n",
            "  inflating: Red/Image-238.jpg       \n",
            "  inflating: Red/Image-239.jpg       \n",
            "  inflating: Red/Image-24.jpg        \n",
            "  inflating: Red/Image-240.jpg       \n",
            "  inflating: Red/Image-241.jpg       \n",
            "  inflating: Red/Image-242.jpg       \n",
            "  inflating: Red/Image-243.jpg       \n",
            "  inflating: Red/Image-244.jpg       \n",
            "  inflating: Red/Image-245.jpg       \n",
            "  inflating: Red/Image-246.jpg       \n",
            "  inflating: Red/Image-247.jpg       \n",
            "  inflating: Red/Image-248.jpg       \n",
            "  inflating: Red/Image-249.jpg       \n",
            "  inflating: Red/Image-25.jpg        \n",
            "  inflating: Red/Image-250.jpg       \n",
            "  inflating: Red/Image-251.jpg       \n",
            "  inflating: Red/Image-252.jpg       \n",
            "  inflating: Red/Image-253.jpg       \n",
            "  inflating: Red/Image-254.jpg       \n",
            "  inflating: Red/Image-255.jpg       \n",
            "  inflating: Red/Image-256.jpg       \n",
            "  inflating: Red/Image-257.jpg       \n",
            "  inflating: Red/Image-258.jpg       \n",
            "  inflating: Red/Image-259.jpg       \n",
            "  inflating: Red/Image-26.jpg        \n",
            "  inflating: Red/Image-260.jpg       \n",
            "  inflating: Red/Image-261.jpg       \n",
            "  inflating: Red/Image-262.jpg       \n",
            "  inflating: Red/Image-263.jpg       \n",
            "  inflating: Red/Image-264.jpg       \n",
            "  inflating: Red/Image-265.jpg       \n",
            "  inflating: Red/Image-266.jpg       \n",
            "  inflating: Red/Image-267.jpg       \n",
            "  inflating: Red/Image-268.jpg       \n",
            "  inflating: Red/Image-269.jpg       \n",
            "  inflating: Red/Image-27.jpg        \n",
            "  inflating: Red/Image-270.jpg       \n",
            "  inflating: Red/Image-271.jpg       \n",
            "  inflating: Red/Image-272.jpg       \n",
            "  inflating: Red/Image-273.jpg       \n",
            "  inflating: Red/Image-274.jpg       \n",
            "  inflating: Red/Image-275.jpg       \n",
            "  inflating: Red/Image-276.jpg       \n",
            "  inflating: Red/Image-277.jpg       \n",
            "  inflating: Red/Image-278.jpg       \n",
            "  inflating: Red/Image-279.jpg       \n",
            "  inflating: Red/Image-28.jpg        \n",
            "  inflating: Red/Image-280.jpg       \n",
            "  inflating: Red/Image-281.jpg       \n",
            "  inflating: Red/Image-282.jpg       \n",
            "  inflating: Red/Image-283.jpg       \n",
            "  inflating: Red/Image-284.jpg       \n",
            "  inflating: Red/Image-285.jpg       \n",
            "  inflating: Red/Image-286.jpg       \n",
            "  inflating: Red/Image-287.jpg       \n",
            "  inflating: Red/Image-288.jpg       \n",
            "  inflating: Red/Image-289.jpg       \n",
            "  inflating: Red/Image-29.jpg        \n",
            "  inflating: Red/Image-290.jpg       \n",
            "  inflating: Red/Image-291.jpg       \n",
            "  inflating: Red/Image-292.jpg       \n",
            "  inflating: Red/Image-293.jpg       \n",
            "  inflating: Red/Image-294.jpg       \n",
            "  inflating: Red/Image-295.jpg       \n",
            "  inflating: Red/Image-296.jpg       \n",
            "  inflating: Red/Image-297.jpg       \n",
            "  inflating: Red/Image-298.jpg       \n",
            "  inflating: Red/Image-299.jpg       \n",
            "  inflating: Red/Image-3.jpg         \n",
            "  inflating: Red/Image-30.jpg        \n",
            "  inflating: Red/Image-300.jpg       \n",
            "  inflating: Red/Image-301.jpg       \n",
            "  inflating: Red/Image-302.jpg       \n",
            "  inflating: Red/Image-303.jpg       \n",
            "  inflating: Red/Image-304.jpg       \n",
            "  inflating: Red/Image-305.jpg       \n",
            "  inflating: Red/Image-306.jpg       \n",
            "  inflating: Red/Image-307.jpg       \n",
            "  inflating: Red/Image-308.jpg       \n",
            "  inflating: Red/Image-309.jpg       \n",
            "  inflating: Red/Image-31.jpg        \n",
            "  inflating: Red/Image-310.jpg       \n",
            "  inflating: Red/Image-311.jpg       \n",
            "  inflating: Red/Image-312.jpg       \n",
            "  inflating: Red/Image-313.jpg       \n",
            "  inflating: Red/Image-314.jpg       \n",
            "  inflating: Red/Image-315.jpg       \n",
            "  inflating: Red/Image-316.jpg       \n",
            "  inflating: Red/Image-317.jpg       \n",
            "  inflating: Red/Image-318.jpg       \n",
            "  inflating: Red/Image-319.jpg       \n",
            "  inflating: Red/Image-32.jpg        \n",
            "  inflating: Red/Image-320.jpg       \n",
            "  inflating: Red/Image-321.jpg       \n",
            "  inflating: Red/Image-322.jpg       \n",
            "  inflating: Red/Image-323.jpg       \n",
            "  inflating: Red/Image-324.jpg       \n",
            "  inflating: Red/Image-325.jpg       \n",
            "  inflating: Red/Image-326.jpg       \n",
            "  inflating: Red/Image-327.jpg       \n",
            "  inflating: Red/Image-328.jpg       \n",
            "  inflating: Red/Image-329.jpg       \n",
            "  inflating: Red/Image-33.jpg        \n",
            "  inflating: Red/Image-330.jpg       \n",
            "  inflating: Red/Image-331.jpg       \n",
            "  inflating: Red/Image-332.jpg       \n",
            "  inflating: Red/Image-333.jpg       \n",
            "  inflating: Red/Image-334.jpg       \n",
            "  inflating: Red/Image-335.jpg       \n",
            "  inflating: Red/Image-336.jpg       \n",
            "  inflating: Red/Image-337.jpg       \n",
            "  inflating: Red/Image-338.jpg       \n",
            "  inflating: Red/Image-339.jpg       \n",
            "  inflating: Red/Image-34.jpg        \n",
            "  inflating: Red/Image-340.jpg       \n",
            "  inflating: Red/Image-341.jpg       \n",
            "  inflating: Red/Image-342.jpg       \n",
            "  inflating: Red/Image-343.jpg       \n",
            "  inflating: Red/Image-344.jpg       \n",
            "  inflating: Red/Image-345.jpg       \n",
            "  inflating: Red/Image-346.jpg       \n",
            "  inflating: Red/Image-347.jpg       \n",
            "  inflating: Red/Image-348.jpg       \n",
            "  inflating: Red/Image-349.jpg       \n",
            "  inflating: Red/Image-35.jpg        \n",
            "  inflating: Red/Image-350.jpg       \n",
            "  inflating: Red/Image-351.jpg       \n",
            "  inflating: Red/Image-352.jpg       \n",
            "  inflating: Red/Image-353.jpg       \n",
            "  inflating: Red/Image-354.jpg       \n",
            "  inflating: Red/Image-355.jpg       \n",
            "  inflating: Red/Image-356.jpg       \n",
            "  inflating: Red/Image-357.jpg       \n",
            "  inflating: Red/Image-358.jpg       \n",
            "  inflating: Red/Image-359.jpg       \n",
            "  inflating: Red/Image-36.jpg        \n",
            "  inflating: Red/Image-360.jpg       \n",
            "  inflating: Red/Image-361.jpg       \n",
            "  inflating: Red/Image-362.jpg       \n",
            "  inflating: Red/Image-363.jpg       \n",
            "  inflating: Red/Image-364.jpg       \n",
            "  inflating: Red/Image-365.jpg       \n",
            "  inflating: Red/Image-366.jpg       \n",
            "  inflating: Red/Image-367.jpg       \n",
            "  inflating: Red/Image-368.jpg       \n",
            "  inflating: Red/Image-369.jpg       \n",
            "  inflating: Red/Image-37.jpg        \n",
            "  inflating: Red/Image-370.jpg       \n",
            "  inflating: Red/Image-371.jpg       \n",
            "  inflating: Red/Image-372.jpg       \n",
            "  inflating: Red/Image-373.jpg       \n",
            "  inflating: Red/Image-374.jpg       \n",
            "  inflating: Red/Image-375.jpg       \n",
            "  inflating: Red/Image-376.jpg       \n",
            "  inflating: Red/Image-377.jpg       \n",
            "  inflating: Red/Image-378.jpg       \n",
            "  inflating: Red/Image-379.jpg       \n",
            "  inflating: Red/Image-38.jpg        \n",
            "  inflating: Red/Image-380.jpg       \n",
            "  inflating: Red/Image-381.jpg       \n",
            "  inflating: Red/Image-382.jpg       \n",
            "  inflating: Red/Image-383.jpg       \n",
            "  inflating: Red/Image-384.jpg       \n",
            "  inflating: Red/Image-385.jpg       \n",
            "  inflating: Red/Image-386.jpg       \n",
            "  inflating: Red/Image-387.jpg       \n",
            "  inflating: Red/Image-388.jpg       \n",
            "  inflating: Red/Image-389.jpg       \n",
            "  inflating: Red/Image-39.jpg        \n",
            "  inflating: Red/Image-390.jpg       \n",
            "  inflating: Red/Image-391.jpg       \n",
            "  inflating: Red/Image-392.jpg       \n",
            "  inflating: Red/Image-393.jpg       \n",
            "  inflating: Red/Image-394.jpg       \n",
            "  inflating: Red/Image-395.jpg       \n",
            "  inflating: Red/Image-396.jpg       \n",
            "  inflating: Red/Image-397.jpg       \n",
            "  inflating: Red/Image-398.jpg       \n",
            "  inflating: Red/Image-399.jpg       \n",
            "  inflating: Red/Image-4.jpg         \n",
            "  inflating: Red/Image-40.jpg        \n",
            "  inflating: Red/Image-400.jpg       \n",
            "  inflating: Red/Image-401.jpg       \n",
            "  inflating: Red/Image-402.jpg       \n",
            "  inflating: Red/Image-403.jpg       \n",
            "  inflating: Red/Image-404.jpg       \n",
            "  inflating: Red/Image-405.jpg       \n",
            "  inflating: Red/Image-406.jpg       \n",
            "  inflating: Red/Image-407.jpg       \n",
            "  inflating: Red/Image-408.jpg       \n",
            "  inflating: Red/Image-409.jpg       \n",
            "  inflating: Red/Image-41.jpg        \n",
            "  inflating: Red/Image-410.jpg       \n",
            "  inflating: Red/Image-411.jpg       \n",
            "  inflating: Red/Image-412.jpg       \n",
            "  inflating: Red/Image-413.jpg       \n",
            "  inflating: Red/Image-414.jpg       \n",
            "  inflating: Red/Image-415.jpg       \n",
            "  inflating: Red/Image-416.jpg       \n",
            "  inflating: Red/Image-417.jpg       \n",
            "  inflating: Red/Image-418.jpg       \n",
            "  inflating: Red/Image-419.jpg       \n",
            "  inflating: Red/Image-42.jpg        \n",
            "  inflating: Red/Image-420.jpg       \n",
            "  inflating: Red/Image-421.jpg       \n",
            "  inflating: Red/Image-422.jpg       \n",
            "  inflating: Red/Image-423.jpg       \n",
            "  inflating: Red/Image-424.jpg       \n",
            "  inflating: Red/Image-425.jpg       \n",
            "  inflating: Red/Image-426.jpg       \n",
            "  inflating: Red/Image-427.jpg       \n",
            "  inflating: Red/Image-428.jpg       \n",
            "  inflating: Red/Image-429.jpg       \n",
            "  inflating: Red/Image-43.jpg        \n",
            "  inflating: Red/Image-430.jpg       \n",
            "  inflating: Red/Image-431.jpg       \n",
            "  inflating: Red/Image-432.jpg       \n",
            "  inflating: Red/Image-433.jpg       \n",
            "  inflating: Red/Image-434.jpg       \n",
            "  inflating: Red/Image-435.jpg       \n",
            "  inflating: Red/Image-436.jpg       \n",
            "  inflating: Red/Image-437.jpg       \n",
            "  inflating: Red/Image-438.jpg       \n",
            "  inflating: Red/Image-439.jpg       \n",
            "  inflating: Red/Image-44.jpg        \n",
            "  inflating: Red/Image-440.jpg       \n",
            "  inflating: Red/Image-441.jpg       \n",
            "  inflating: Red/Image-442.jpg       \n",
            "  inflating: Red/Image-443.jpg       \n",
            "  inflating: Red/Image-444.jpg       \n",
            "  inflating: Red/Image-445.jpg       \n",
            "  inflating: Red/Image-446.jpg       \n",
            "  inflating: Red/Image-447.jpg       \n",
            "  inflating: Red/Image-448.jpg       \n",
            "  inflating: Red/Image-449.jpg       \n",
            "  inflating: Red/Image-45.jpg        \n",
            "  inflating: Red/Image-450.jpg       \n",
            "  inflating: Red/Image-451.jpg       \n",
            "  inflating: Red/Image-452.jpg       \n",
            "  inflating: Red/Image-453.jpg       \n",
            "  inflating: Red/Image-454.jpg       \n",
            "  inflating: Red/Image-455.jpg       \n",
            "  inflating: Red/Image-456.jpg       \n",
            "  inflating: Red/Image-457.jpg       \n",
            "  inflating: Red/Image-458.jpg       \n",
            "  inflating: Red/Image-459.jpg       \n",
            "  inflating: Red/Image-46.jpg        \n",
            "  inflating: Red/Image-460.jpg       \n",
            "  inflating: Red/Image-461.jpg       \n",
            "  inflating: Red/Image-462.jpg       \n",
            "  inflating: Red/Image-463.jpg       \n",
            "  inflating: Red/Image-464.jpg       \n",
            "  inflating: Red/Image-465.jpg       \n",
            "  inflating: Red/Image-466.jpg       \n",
            "  inflating: Red/Image-467.jpg       \n",
            "  inflating: Red/Image-468.jpg       \n",
            "  inflating: Red/Image-469.jpg       \n",
            "  inflating: Red/Image-47.jpg        \n",
            "  inflating: Red/Image-470.jpg       \n",
            "  inflating: Red/Image-471.jpg       \n",
            "  inflating: Red/Image-472.jpg       \n",
            "  inflating: Red/Image-473.jpg       \n",
            "  inflating: Red/Image-474.jpg       \n",
            "  inflating: Red/Image-475.jpg       \n",
            "  inflating: Red/Image-476.jpg       \n",
            "  inflating: Red/Image-477.jpg       \n",
            "  inflating: Red/Image-478.jpg       \n",
            "  inflating: Red/Image-479.jpg       \n",
            "  inflating: Red/Image-48.jpg        \n",
            "  inflating: Red/Image-480.jpg       \n",
            "  inflating: Red/Image-481.jpg       \n",
            "  inflating: Red/Image-482.jpg       \n",
            "  inflating: Red/Image-483.jpg       \n",
            "  inflating: Red/Image-484.jpg       \n",
            "  inflating: Red/Image-485.jpg       \n",
            "  inflating: Red/Image-486.jpg       \n",
            "  inflating: Red/Image-487.jpg       \n",
            "  inflating: Red/Image-488.jpg       \n",
            "  inflating: Red/Image-489.jpg       \n",
            "  inflating: Red/Image-49.jpg        \n",
            "  inflating: Red/Image-490.jpg       \n",
            "  inflating: Red/Image-491.jpg       \n",
            "  inflating: Red/Image-492.jpg       \n",
            "  inflating: Red/Image-493.jpg       \n",
            "  inflating: Red/Image-494.jpg       \n",
            "  inflating: Red/Image-495.jpg       \n",
            "  inflating: Red/Image-496.jpg       \n",
            "  inflating: Red/Image-497.jpg       \n",
            "  inflating: Red/Image-498.jpg       \n",
            "  inflating: Red/Image-499.jpg       \n",
            "  inflating: Red/Image-5.jpg         \n",
            "  inflating: Red/Image-50.jpg        \n",
            "  inflating: Red/Image-500.jpg       \n",
            "  inflating: Red/Image-51.jpg        \n",
            "  inflating: Red/Image-52.jpg        \n",
            "  inflating: Red/Image-53.jpg        \n",
            "  inflating: Red/Image-54.jpg        \n",
            "  inflating: Red/Image-55.jpg        \n",
            "  inflating: Red/Image-56.jpg        \n",
            "  inflating: Red/Image-57.jpg        \n",
            "  inflating: Red/Image-58.jpg        \n",
            "  inflating: Red/Image-59.jpg        \n",
            "  inflating: Red/Image-6.jpg         \n",
            "  inflating: Red/Image-60.jpg        \n",
            "  inflating: Red/Image-61.jpg        \n",
            "  inflating: Red/Image-62.jpg        \n",
            "  inflating: Red/Image-63.jpg        \n",
            "  inflating: Red/Image-64.jpg        \n",
            "  inflating: Red/Image-65.jpg        \n",
            "  inflating: Red/Image-66.jpg        \n",
            "  inflating: Red/Image-67.jpg        \n",
            "  inflating: Red/Image-68.jpg        \n",
            "  inflating: Red/Image-69.jpg        \n",
            "  inflating: Red/Image-7.jpg         \n",
            "  inflating: Red/Image-70.jpg        \n",
            "  inflating: Red/Image-71.jpg        \n",
            "  inflating: Red/Image-72.jpg        \n",
            "  inflating: Red/Image-73.jpg        \n",
            "  inflating: Red/Image-74.jpg        \n",
            "  inflating: Red/Image-75.jpg        \n",
            "  inflating: Red/Image-76.jpg        \n",
            "  inflating: Red/Image-77.jpg        \n",
            "  inflating: Red/Image-78.jpg        \n",
            "  inflating: Red/Image-79.jpg        \n",
            "  inflating: Red/Image-8.jpg         \n",
            "  inflating: Red/Image-80.jpg        \n",
            "  inflating: Red/Image-81.jpg        \n",
            "  inflating: Red/Image-82.jpg        \n",
            "  inflating: Red/Image-83.jpg        \n",
            "  inflating: Red/Image-84.jpg        \n",
            "  inflating: Red/Image-85.jpg        \n",
            "  inflating: Red/Image-86.jpg        \n",
            "  inflating: Red/Image-87.jpg        \n",
            "  inflating: Red/Image-88.jpg        \n",
            "  inflating: Red/Image-89.jpg        \n",
            "  inflating: Red/Image-9.jpg         \n",
            "  inflating: Red/Image-90.jpg        \n",
            "  inflating: Red/Image-91.jpg        \n",
            "  inflating: Red/Image-92.jpg        \n",
            "  inflating: Red/Image-93.jpg        \n",
            "  inflating: Red/Image-94.jpg        \n",
            "  inflating: Red/Image-95.jpg        \n",
            "  inflating: Red/Image-96.jpg        \n",
            "  inflating: Red/Image-97.jpg        \n",
            "  inflating: Red/Image-98.jpg        \n",
            "  inflating: Red/Image-99.jpg        \n"
          ]
        }
      ]
    },
    {
      "cell_type": "code",
      "source": [
        "import zipfile\n",
        "import tensorflow as tf\n",
        "from tensorflow.keras import models, layers\n",
        "from tensorflow.keras.preprocessing.image import ImageDataGenerator\n",
        "import os\n",
        "import shutil\n",
        "import glob\n",
        "import matplotlib.pyplot as plt\n",
        "import matplotlib.image as mpimg"
      ],
      "metadata": {
        "id": "rGoAVCGQqgMG"
      },
      "execution_count": null,
      "outputs": []
    },
    {
      "cell_type": "code",
      "source": [
        "train_dir=\"/content/train\"\n",
        "val_dir=\"/content/validation\""
      ],
      "metadata": {
        "id": "9PMJ9qHxqrUF"
      },
      "execution_count": null,
      "outputs": []
    },
    {
      "cell_type": "code",
      "source": [
        "\n",
        "train_datagen = ImageDataGenerator(rescale=1/255,\n",
        "                                   zoom_range=0.2,\n",
        "                                   horizontal_flip=True,\n",
        "                                   shear_range=0.2,\n",
        "                                   width_shift_range=0.2,\n",
        "                                   height_shift_range=0.2,\n",
        "                                   rotation_range=40,\n",
        "                                   validation_split=0.3)\n",
        "train_generator = train_datagen.flow_from_directory(train_dir,\n",
        "                                  target_size=(150, 150),\n",
        "                                  class_mode=\"binary\",\n",
        "                                  batch_size=16,\n",
        "                                  subset=\"training\"\n",
        "                             )\n",
        "validation_generator = train_datagen.flow_from_directory(\n",
        "                                  val_dir,\n",
        "                                  target_size=(150, 150),\n",
        "                                  class_mode=\"binary\",\n",
        "                                  batch_size=16,\n",
        "                                  subset=\"validation\"\n",
        ")\n",
        "\n",
        "x_val, y_val = validation_generator.next()\n",
        "\n",
        "# Display a single image from the validation data\n",
        "plt.imshow(x_val[0])\n",
        "plt.show()\n"
      ],
      "metadata": {
        "colab": {
          "base_uri": "https://localhost:8080/",
          "height": 469
        },
        "id": "kXuDN3_hE0E1",
        "outputId": "ba33b0c8-a210-4dc2-81cc-7f405bab1b0c"
      },
      "execution_count": null,
      "outputs": [
        {
          "output_type": "stream",
          "name": "stdout",
          "text": [
            "Found 2802 images belonging to 2 classes.\n",
            "Found 300 images belonging to 3 classes.\n"
          ]
        },
        {
          "output_type": "display_data",
          "data": {
            "text/plain": [
              "<Figure size 640x480 with 1 Axes>"
            ],
            "image/png": "[encoded data removed]"
          },
          "metadata": {}
        }
      ]
    },
    {
      "cell_type": "code",
      "source": [
        "model = models.Sequential([\n",
        "    layers.Conv2D(32, kernel_size=3, input_shape=(150, 150, 3), activation=\"relu\"),\n",
        "    layers.MaxPooling2D(2, 2),\n",
        "    layers.Conv2D(64, kernel_size=3, activation=\"relu\"),\n",
        "    layers.MaxPooling2D(2, 2),\n",
        "    layers.Dropout(0.2),\n",
        "    # layers.Conv2D(64, kernel_size=3, activation=\"relu\"),\n",
        "    # layers.MaxPooling2D(2, 2),\n",
        "    # layers.Conv2D(128, kernel_size=3, activation=\"relu\"),\n",
        "    # layers.MaxPooling2D(2, 2),\n",
        "    # layers.Conv2D(128, kernel_size=3, activation=\"relu\"),\n",
        "    # layers.MaxPooling2D(2, 2),\n",
        "    layers.Flatten(),\n",
        "    layers.Dense(512, activation=\"relu\"),\n",
        "    layers.Dense(1, activation=\"sigmoid\")\n",
        "])"
      ],
      "metadata": {
        "id": "HAnRmQ-sq1tS"
      },
      "execution_count": null,
      "outputs": []
    },
    {
      "cell_type": "code",
      "source": [
        "model.summary()"
      ],
      "metadata": {
        "colab": {
          "base_uri": "https://localhost:8080/"
        },
        "id": "YtHsGWw9q3Zz",
        "outputId": "b959fb46-07d8-46cd-ddca-b4571fe289e3"
      },
      "execution_count": null,
      "outputs": [
        {
          "output_type": "stream",
          "name": "stdout",
          "text": [
            "Model: \"sequential_1\"\n",
            "_________________________________________________________________\n",
            " Layer (type)                Output Shape              Param #   \n",
            "=================================================================\n",
            " conv2d_2 (Conv2D)           (None, 148, 148, 32)      896       \n",
            "                                                                 \n",
            " max_pooling2d_2 (MaxPooling  (None, 74, 74, 32)       0         \n",
            " 2D)                                                             \n",
            "                                                                 \n",
            " conv2d_3 (Conv2D)           (None, 72, 72, 64)        18496     \n",
            "                                                                 \n",
            " max_pooling2d_3 (MaxPooling  (None, 36, 36, 64)       0         \n",
            " 2D)                                                             \n",
            "                                                                 \n",
            " dropout_1 (Dropout)         (None, 36, 36, 64)        0         \n",
            "                                                                 \n",
            " flatten_1 (Flatten)         (None, 82944)             0         \n",
            "                                                                 \n",
            " dense_2 (Dense)             (None, 512)               42467840  \n",
            "                                                                 \n",
            " dense_3 (Dense)             (None, 1)                 513       \n",
            "                                                                 \n",
            "=================================================================\n",
            "Total params: 42,487,745\n",
            "Trainable params: 42,487,745\n",
            "Non-trainable params: 0\n",
            "_________________________________________________________________\n"
          ]
        }
      ]
    },
    {
      "cell_type": "code",
      "source": [
        "from tensorflow import keras\n",
        "optimizer = keras.optimizers.Adam(learning_rate=0.001)\n",
        "\n",
        "model.compile(optimizer=\"adam\", loss=\"binary_crossentropy\", metrics=[\"accuracy\"])\n",
        "\n",
        "\n",
        "class MyCallback(tf.keras.callbacks.Callback):\n",
        "    def on_epoch_end(self, epoch, logs={}):\n",
        "        if logs[\"accuracy\"] is not None and logs[\"val_accuracy\"] >= 0.99:\n",
        "            print(\"Training is finished...\")\n"
      ],
      "metadata": {
        "id": "xHCNN_hOq5hc"
      },
      "execution_count": null,
      "outputs": []
    },
    {
      "cell_type": "code",
      "source": [
        "history = model.fit(train_generator, validation_data=validation_generator, epochs=5)\n"
      ],
      "metadata": {
        "colab": {
          "base_uri": "https://localhost:8080/"
        },
        "id": "OXSe36CEq_Nb",
        "outputId": "c0be0a44-2ab4-4aa4-82ce-6438dfd172cb"
      },
      "execution_count": null,
      "outputs": [
        {
          "output_type": "stream",
          "name": "stdout",
          "text": [
            "Epoch 1/5\n",
            "176/176 [==============================] - 33s 174ms/step - loss: 0.1319 - accuracy: 0.9775 - val_loss: -1.9511 - val_accuracy: 0.0000e+00\n",
            "Epoch 2/5\n",
            "176/176 [==============================] - 34s 191ms/step - loss: 0.0093 - accuracy: 0.9979 - val_loss: -8.6918 - val_accuracy: 0.0000e+00\n",
            "Epoch 3/5\n",
            "176/176 [==============================] - 31s 178ms/step - loss: 0.0289 - accuracy: 0.9911 - val_loss: -3.1748 - val_accuracy: 0.0000e+00\n",
            "Epoch 4/5\n",
            "176/176 [==============================] - 31s 174ms/step - loss: 0.0028 - accuracy: 0.9989 - val_loss: -4.3760 - val_accuracy: 0.0000e+00\n",
            "Epoch 5/5\n",
            "176/176 [==============================] - 31s 177ms/step - loss: 0.0025 - accuracy: 0.9996 - val_loss: -3.5075 - val_accuracy: 0.0000e+00\n"
          ]
        }
      ]
    },
    {
      "cell_type": "code",
      "source": [
        "epochs=5\n",
        "print(\"Calculating the accuracy\")\n",
        "acc = history.history['accuracy']\n",
        "val_acc = history.history['val_accuracy']\n",
        "print(\"Calculating the loss\")\n",
        "loss = history.history['loss']\n",
        "val_loss = history.history['val_loss']\n",
        "\n",
        "epochs_range = range(epochs)\n",
        "print(\"The results are being visualized\")\n",
        "plt.figure(figsize=(8, 8))\n",
        "plt.subplot(1, 2, 1)\n",
        "plt.plot(epochs_range, acc, label='Training Accuracy')\n",
        "plt.plot(epochs_range, val_acc, label='Validation Accuracy')\n",
        "plt.legend(loc='lower right')\n",
        "plt.title('Training and Validation Accuracy')\n",
        "plt.subplot(1, 2, 2)\n",
        "\n",
        "plt.plot(epochs_range, loss, label='Training Loss')\n",
        "plt.plot(epochs_range, val_loss, label='Validation Loss')\n",
        "plt.legend(loc='upper right')\n",
        "plt.title('Training and Validation Loss')\n",
        "plt.show()"
      ],
      "metadata": {
        "colab": {
          "base_uri": "https://localhost:8080/",
          "height": 751
        },
        "id": "S4bsRH_Em2NE",
        "outputId": "d5f42031-d3eb-4304-894e-e345b2c50ec6"
      },
      "execution_count": null,
      "outputs": [
        {
          "output_type": "stream",
          "name": "stdout",
          "text": [
            "Calculating the accuracy\n",
            "Calculating the loss\n",
            "The results are being visualized\n"
          ]
        },
        {
          "output_type": "display_data",
          "data": {
            "text/plain": [
              "<Figure size 800x800 with 2 Axes>"
            ],
            "image/png": "[encoded data removed]"
          },
          "metadata": {}
        }
      ]
    },
    {
      "cell_type": "code",
      "source": [
        "img=x_val[0]\n",
        "print(type(img))"
      ],
      "metadata": {
        "id": "NTxNcwJI7y5b",
        "colab": {
          "base_uri": "https://localhost:8080/"
        },
        "outputId": "097030eb-d4ce-4ef4-e39b-2c3eeaacc676"
      },
      "execution_count": null,
      "outputs": [
        {
          "output_type": "stream",
          "name": "stdout",
          "text": [
            "<class 'numpy.ndarray'>\n"
          ]
        }
      ]
    },
    {
      "cell_type": "code",
      "source": [
        "import numpy as np\n",
        "img = np.reshape(x_val[10], (1,150, 150, 3))\n",
        "img=img/255\n",
        "img.shape"
      ],
      "metadata": {
        "id": "Tp_LZFWhrAw5",
        "colab": {
          "base_uri": "https://localhost:8080/"
        },
        "outputId": "64eb71dc-1839-467d-ff92-35d0839cc2c4"
      },
      "execution_count": null,
      "outputs": [
        {
          "output_type": "execute_result",
          "data": {
            "text/plain": [
              "(1, 150, 150, 3)"
            ]
          },
          "metadata": {},
          "execution_count": 48
        }
      ]
    },
    {
      "cell_type": "code",
      "source": [
        "predictions=model.predict(img,batch_size=1)"
      ],
      "metadata": {
        "id": "W3yxUqnor7xs",
        "colab": {
          "base_uri": "https://localhost:8080/"
        },
        "outputId": "353f2b22-a509-40ba-9772-733b02583016"
      },
      "execution_count": null,
      "outputs": [
        {
          "output_type": "stream",
          "name": "stdout",
          "text": [
            "1/1 [==============================] - 0s 23ms/step\n"
          ]
        }
      ]
    },
    {
      "cell_type": "code",
      "source": [
        "print(predictions)"
      ],
      "metadata": {
        "id": "uloMBd5BsJf9",
        "colab": {
          "base_uri": "https://localhost:8080/"
        },
        "outputId": "d39e4be0-61d8-4759-b89d-002b1c7f6038"
      },
      "execution_count": null,
      "outputs": [
        {
          "output_type": "stream",
          "name": "stdout",
          "text": [
            "[[8.235626e-33]]\n"
          ]
        }
      ]
    },
    {
      "cell_type": "code",
      "source": [
        "if predictions>0.2:\n",
        "  print(\"Red\")\n",
        "else:\n",
        "  print(\"Green\")"
      ],
      "metadata": {
        "id": "vlSEYSn5saq7",
        "colab": {
          "base_uri": "https://localhost:8080/"
        },
        "outputId": "dff17942-1d8a-423a-a30f-e7b82deb702d"
      },
      "execution_count": null,
      "outputs": [
        {
          "output_type": "stream",
          "name": "stdout",
          "text": [
            "Green\n"
          ]
        }
      ]
    },
    {
      "cell_type": "code",
      "source": [
        "#taking photo from cam"
      ],
      "metadata": {
        "id": "79PYRxtO1bz6"
      },
      "execution_count": null,
      "outputs": []
    },
    {
      "cell_type": "code",
      "source": [
        "\n",
        "import imutils\n",
        "import numpy as np\n",
        "import cv2\n",
        "from google.colab.patches import cv2_imshow\n",
        "from IPython.display import display, Javascript\n",
        "from google.colab.output import eval_js\n",
        "from base64 import b64decode"
      ],
      "metadata": {
        "id": "XXafCMNF2EwD"
      },
      "execution_count": null,
      "outputs": []
    },
    {
      "cell_type": "code",
      "source": [
        "def take_photo(filename='photo.jpg', quality=0.8):\n",
        "  js = Javascript('''\n",
        "    async function takePhoto(quality) {\n",
        "      const div = document.createElement('div');\n",
        "      const capture = document.createElement('button');\n",
        "      capture.textContent = 'Capture';\n",
        "      div.appendChild(capture);\n",
        "\n",
        "      const video = document.createElement('video');\n",
        "      video.style.display = 'block';\n",
        "      const stream = await navigator.mediaDevices.getUserMedia({video: true});\n",
        "\n",
        "      document.body.appendChild(div);\n",
        "      div.appendChild(video);\n",
        "      video.srcObject = stream;\n",
        "      await video.play();\n",
        "\n",
        "      // Resize the output to fit the video element.\n",
        "      google.colab.output.setIframeHeight(document.documentElement.scrollHeight, true);\n",
        "\n",
        "      // Wait for Capture to be clicked.\n",
        "      await new Promise((resolve) => capture.onclick = resolve);\n",
        "\n",
        "      const canvas = document.createElement('canvas');\n",
        "      canvas.width = video.videoWidth;\n",
        "      canvas.height = video.videoHeight;\n",
        "      canvas.getContext('2d').drawImage(video, 0, 0);\n",
        "      stream.getVideoTracks()[0].stop();\n",
        "      div.remove();\n",
        "      return canvas.toDataURL('image/jpeg', quality);\n",
        "    }\n",
        "    ''')\n",
        "  display(js)\n",
        "  data = eval_js('takePhoto({})'.format(quality))\n",
        "  binary = b64decode(data.split(',')[1])\n",
        "  with open(filename, 'wb') as f:\n",
        "    f.write(binary)\n",
        "  return filename"
      ],
      "metadata": {
        "id": "Scjw69102FFk"
      },
      "execution_count": null,
      "outputs": []
    },
    {
      "cell_type": "code",
      "source": [
        "image_file = take_photo()"
      ],
      "metadata": {
        "id": "u7r-B8P-2GrO",
        "colab": {
          "base_uri": "https://localhost:8080/",
          "height": 17
        },
        "outputId": "341f4886-471a-46f6-b7ca-7e7a9e7947a8"
      },
      "execution_count": null,
      "outputs": [
        {
          "output_type": "display_data",
          "data": {
            "text/plain": [
              "<IPython.core.display.Javascript object>"
            ],
            "application/javascript": [
              "\n",
              "    async function takePhoto(quality) {\n",
              "      const div = document.createElement('div');\n",
              "      const capture = document.createElement('button');\n",
              "      capture.textContent = 'Capture';\n",
              "      div.appendChild(capture);\n",
              "\n",
              "      const video = document.createElement('video');\n",
              "      video.style.display = 'block';\n",
              "      const stream = await navigator.mediaDevices.getUserMedia({video: true});\n",
              "\n",
              "      document.body.appendChild(div);\n",
              "      div.appendChild(video);\n",
              "      video.srcObject = stream;\n",
              "      await video.play();\n",
              "\n",
              "      // Resize the output to fit the video element.\n",
              "      google.colab.output.setIframeHeight(document.documentElement.scrollHeight, true);\n",
              "\n",
              "      // Wait for Capture to be clicked.\n",
              "      await new Promise((resolve) => capture.onclick = resolve);\n",
              "\n",
              "      const canvas = document.createElement('canvas');\n",
              "      canvas.width = video.videoWidth;\n",
              "      canvas.height = video.videoHeight;\n",
              "      canvas.getContext('2d').drawImage(video, 0, 0);\n",
              "      stream.getVideoTracks()[0].stop();\n",
              "      div.remove();\n",
              "      return canvas.toDataURL('image/jpeg', quality);\n",
              "    }\n",
              "    "
            ]
          },
          "metadata": {}
        }
      ]
    },
    {
      "cell_type": "code",
      "source": [
        "img=cv2.imread(\"/content/photo.jpg\")\n",
        "resized = cv2.resize(img, (150,150))\n",
        "resized.shape"
      ],
      "metadata": {
        "id": "KwI71K8L2IpR",
        "colab": {
          "base_uri": "https://localhost:8080/"
        },
        "outputId": "292d56b4-391f-4334-fbae-62ced19d0935"
      },
      "execution_count": null,
      "outputs": [
        {
          "output_type": "execute_result",
          "data": {
            "text/plain": [
              "(150, 150, 3)"
            ]
          },
          "metadata": {},
          "execution_count": 140
        }
      ]
    },
    {
      "cell_type": "code",
      "source": [
        "# type(resized)\n"
      ],
      "metadata": {
        "id": "0PS3eowQ9UHt"
      },
      "execution_count": null,
      "outputs": []
    },
    {
      "cell_type": "code",
      "source": [
        "# img=np.array(img)\n",
        "img = np.reshape(resized, (1,150, 150, 3))\n",
        "img=img/255\n",
        "img.shape"
      ],
      "metadata": {
        "id": "eahwt6dz2SWj",
        "colab": {
          "base_uri": "https://localhost:8080/"
        },
        "outputId": "11cdc71b-f6b5-4a87-a0e9-7b48cb457981"
      },
      "execution_count": null,
      "outputs": [
        {
          "output_type": "execute_result",
          "data": {
            "text/plain": [
              "(1, 150, 150, 3)"
            ]
          },
          "metadata": {},
          "execution_count": 142
        }
      ]
    },
    {
      "cell_type": "code",
      "source": [
        "predictions=model.predict(img,batch_size=1)"
      ],
      "metadata": {
        "id": "oKmoTh0J7PBq",
        "colab": {
          "base_uri": "https://localhost:8080/"
        },
        "outputId": "3ad6fd38-2b1c-471f-b25f-7d3a348e3d47"
      },
      "execution_count": null,
      "outputs": [
        {
          "output_type": "stream",
          "name": "stdout",
          "text": [
            "1/1 [==============================] - 0s 18ms/step\n"
          ]
        }
      ]
    },
    {
      "cell_type": "code",
      "source": [
        "print(predictions)\n",
        "if(predictions>0.2):\n",
        "  print(\"green\")\n",
        "else:\n",
        "  print(\"red\")"
      ],
      "metadata": {
        "id": "27fNGSBT7ug-",
        "colab": {
          "base_uri": "https://localhost:8080/"
        },
        "outputId": "e7347542-612a-482e-e087-670b2c858cec"
      },
      "execution_count": null,
      "outputs": [
        {
          "output_type": "stream",
          "name": "stdout",
          "text": [
            "[[0.36010963]]\n",
            "green\n"
          ]
        }
      ]
    },
    {
      "cell_type": "code",
      "source": [
        "#for exisisting image"
      ],
      "metadata": {
        "id": "WvU6ueeU76bP"
      },
      "execution_count": null,
      "outputs": []
    },
    {
      "cell_type": "code",
      "source": [
        "import cv2\n",
        "img=cv2.imread(\"/content/validation/green/Image-50.jpg\")\n",
        "img1=cv2.imread(\"/content/validation/red/Image-50.jpg\")\n",
        "\n",
        "resized = cv2.resize(img, (150,150))\n",
        "resized1 = cv2.resize(img1, (150,150))\n",
        "resized.shape"
      ],
      "metadata": {
        "id": "BIgqFv41azoE",
        "colab": {
          "base_uri": "https://localhost:8080/"
        },
        "outputId": "c41ec91f-5112-4573-e981-5b4938828723"
      },
      "execution_count": null,
      "outputs": [
        {
          "output_type": "execute_result",
          "data": {
            "text/plain": [
              "(150, 150, 3)"
            ]
          },
          "metadata": {},
          "execution_count": 134
        }
      ]
    },
    {
      "cell_type": "code",
      "source": [
        "# img=np.array(img)\n",
        "img = np.reshape(resized, (1,150, 150, 3))\n",
        "img=img/255\n",
        "\n",
        "\n",
        "# img=np.array(img)\n",
        "img1= np.reshape(resized1, (1,150, 150, 3))\n",
        "img1=img1/255\n"
      ],
      "metadata": {
        "id": "22A5z7zajgfR"
      },
      "execution_count": null,
      "outputs": []
    },
    {
      "cell_type": "code",
      "source": [
        "#for green image\n",
        "predictions=model.predict(img,batch_size=1)\n",
        "print(predictions)\n",
        "if(predictions>0.1):\n",
        "  print(\"red\")\n",
        "else:\n",
        "  print(\"green\")"
      ],
      "metadata": {
        "id": "ynwX3pQgjzPT",
        "colab": {
          "base_uri": "https://localhost:8080/"
        },
        "outputId": "98756754-1ccf-4bb6-c150-5a5889b955d9"
      },
      "execution_count": null,
      "outputs": [
        {
          "output_type": "stream",
          "name": "stdout",
          "text": [
            "1/1 [==============================] - 0s 17ms/step\n",
            "[[4.711048e-06]]\n",
            "green\n"
          ]
        }
      ]
    },
    {
      "cell_type": "code",
      "source": [
        "#for red image\n",
        "predictions=model.predict(img1,batch_size=1)\n",
        "print(predictions)\n",
        "if(predictions>0.1):\n",
        "  print(\"red\")\n",
        "else:\n",
        "  print(\"green\")"
      ],
      "metadata": {
        "id": "lrSnesb_j6rW",
        "colab": {
          "base_uri": "https://localhost:8080/"
        },
        "outputId": "a05ada77-4efd-4458-c2fc-bb6e855da103"
      },
      "execution_count": null,
      "outputs": [
        {
          "output_type": "stream",
          "name": "stdout",
          "text": [
            "1/1 [==============================] - 0s 21ms/step\n",
            "[[0.23184961]]\n",
            "red\n"
          ]
        }
      ]
    }
  ]
}
